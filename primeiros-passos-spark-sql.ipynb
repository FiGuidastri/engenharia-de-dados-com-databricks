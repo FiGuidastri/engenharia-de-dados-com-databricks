{
 "cells": [
  {
   "cell_type": "markdown",
   "metadata": {
    "application/vnd.databricks.v1+cell": {
     "cellMetadata": {},
     "inputWidgets": {},
     "nuid": "3164120f-e855-4b5d-b58b-a9c02b535fb9",
     "showTitle": false,
     "title": ""
    }
   },
   "source": [
    "# Treinamento dos principais comandos de SQL e SPARK"
   ]
  },
  {
   "cell_type": "code",
   "execution_count": 0,
   "metadata": {
    "application/vnd.databricks.v1+cell": {
     "cellMetadata": {
      "byteLimit": 2048000,
      "rowLimit": 10000
     },
     "inputWidgets": {},
     "nuid": "c165e1c0-9232-452b-94fd-956cc014a881",
     "showTitle": false,
     "title": ""
    }
   },
   "outputs": [],
   "source": [
    "from pyspark.sql.functions import *\n",
    "from pyspark.sql.types import *"
   ]
  },
  {
   "cell_type": "markdown",
   "metadata": {
    "application/vnd.databricks.v1+cell": {
     "cellMetadata": {},
     "inputWidgets": {},
     "nuid": "b6cae5be-029c-4297-b49d-4149c05d3e6f",
     "showTitle": false,
     "title": ""
    }
   },
   "source": [
    "## Create Table"
   ]
  },
  {
   "cell_type": "code",
   "execution_count": 0,
   "metadata": {
    "application/vnd.databricks.v1+cell": {
     "cellMetadata": {
      "byteLimit": 2048000,
      "implicitDf": true,
      "rowLimit": 10000
     },
     "inputWidgets": {},
     "nuid": "525f52ed-1a1d-4c00-92ab-c8b1d3c64458",
     "showTitle": false,
     "title": ""
    }
   },
   "outputs": [
    {
     "output_type": "display_data",
     "data": {
      "text/html": [
       "<style scoped>\n",
       "  .table-result-container {\n",
       "    max-height: 300px;\n",
       "    overflow: auto;\n",
       "  }\n",
       "  table, th, td {\n",
       "    border: 1px solid black;\n",
       "    border-collapse: collapse;\n",
       "  }\n",
       "  th, td {\n",
       "    padding: 5px;\n",
       "  }\n",
       "  th {\n",
       "    text-align: left;\n",
       "  }\n",
       "</style><div class='table-result-container'><table class='table-result'><thead style='background-color: white'><tr></tr></thead><tbody></tbody></table></div>"
      ]
     },
     "metadata": {
      "application/vnd.databricks.v1+output": {
       "addedWidgets": {},
       "aggData": [],
       "aggError": "",
       "aggOverflow": false,
       "aggSchema": [],
       "aggSeriesLimitReached": false,
       "aggType": "",
       "arguments": {},
       "columnCustomDisplayInfos": {},
       "data": [],
       "datasetInfos": [],
       "dbfsResultPath": null,
       "isJsonSchema": true,
       "metadata": {
        "dataframeName": null
       },
       "overflow": false,
       "plotOptions": {
        "customPlotOptions": {},
        "displayType": "table",
        "pivotAggregation": null,
        "pivotColumns": null,
        "xColumns": null,
        "yColumns": null
       },
       "removedWidgets": [],
       "schema": [],
       "type": "table"
      }
     },
     "output_type": "display_data"
    }
   ],
   "source": [
    "%sql --indica que iremos utilizar um comando SQL na celula\n",
    "CREATE OR REPLACE TABLE spark_catalog.bronze.tr_pessoa(\n",
    "  id INT COMMENT 'Chave Primária',\n",
    "  primeiro_nome VARCHAR(255) COMMENT 'Primeiro nome da pessoa',\n",
    "  ultimo_nome VARCHAR(255) COMMENT 'Ultimo nome da pessoa',\n",
    "  data_nascimento DATE COMMENT 'Data de nascimento'\n",
    ")\n",
    "LOCATION 'dbfs:/FileStore/landing_zone/tr_pessoa'\n",
    "TBLPROPERTIES ('comment' = 'Esta tabela comtém dados de pessoas.')"
   ]
  },
  {
   "cell_type": "code",
   "execution_count": 0,
   "metadata": {
    "application/vnd.databricks.v1+cell": {
     "cellMetadata": {
      "byteLimit": 2048000,
      "implicitDf": true,
      "rowLimit": 10000
     },
     "inputWidgets": {},
     "nuid": "b23d1c1b-a7b5-4140-930a-1e9d693dc238",
     "showTitle": false,
     "title": ""
    }
   },
   "outputs": [
    {
     "output_type": "display_data",
     "data": {
      "text/html": [
       "<style scoped>\n",
       "  .table-result-container {\n",
       "    max-height: 300px;\n",
       "    overflow: auto;\n",
       "  }\n",
       "  table, th, td {\n",
       "    border: 1px solid black;\n",
       "    border-collapse: collapse;\n",
       "  }\n",
       "  th, td {\n",
       "    padding: 5px;\n",
       "  }\n",
       "  th {\n",
       "    text-align: left;\n",
       "  }\n",
       "</style><div class='table-result-container'><table class='table-result'><thead style='background-color: white'><tr><th>col_name</th><th>data_type</th><th>comment</th></tr></thead><tbody><tr><td>id</td><td>int</td><td>Chave Primária</td></tr><tr><td>primeiro_nome</td><td>varchar(255)</td><td>Primeiro nome da pessoa</td></tr><tr><td>ultimo_nome</td><td>varchar(255)</td><td>Ultimo nome da pessoa</td></tr><tr><td>data_nascimento</td><td>date</td><td>Data de nascimento</td></tr></tbody></table></div>"
      ]
     },
     "metadata": {
      "application/vnd.databricks.v1+output": {
       "addedWidgets": {},
       "aggData": [],
       "aggError": "",
       "aggOverflow": false,
       "aggSchema": [],
       "aggSeriesLimitReached": false,
       "aggType": "",
       "arguments": {},
       "columnCustomDisplayInfos": {},
       "data": [
        [
         "id",
         "int",
         "Chave Primária"
        ],
        [
         "primeiro_nome",
         "varchar(255)",
         "Primeiro nome da pessoa"
        ],
        [
         "ultimo_nome",
         "varchar(255)",
         "Ultimo nome da pessoa"
        ],
        [
         "data_nascimento",
         "date",
         "Data de nascimento"
        ]
       ],
       "datasetInfos": [],
       "dbfsResultPath": null,
       "isJsonSchema": true,
       "metadata": {
        "createTempViewForImplicitDf": true,
        "dataframeName": "_sqldf",
        "executionCount": 2
       },
       "overflow": false,
       "plotOptions": {
        "customPlotOptions": {},
        "displayType": "table",
        "pivotAggregation": null,
        "pivotColumns": null,
        "xColumns": null,
        "yColumns": null
       },
       "removedWidgets": [],
       "schema": [
        {
         "metadata": "{\"comment\":\"name of the column\"}",
         "name": "col_name",
         "type": "\"string\""
        },
        {
         "metadata": "{\"comment\":\"data type of the column\"}",
         "name": "data_type",
         "type": "\"string\""
        },
        {
         "metadata": "{\"comment\":\"comment of the column\"}",
         "name": "comment",
         "type": "\"string\""
        }
       ],
       "type": "table"
      }
     },
     "output_type": "display_data"
    }
   ],
   "source": [
    "%sql\n",
    "describe bronze.tr_pessoa"
   ]
  },
  {
   "cell_type": "code",
   "execution_count": 0,
   "metadata": {
    "application/vnd.databricks.v1+cell": {
     "cellMetadata": {
      "byteLimit": 2048000,
      "implicitDf": true,
      "rowLimit": 10000
     },
     "inputWidgets": {},
     "nuid": "20f13058-588e-4cc5-9f0d-577ff0ada53d",
     "showTitle": false,
     "title": ""
    }
   },
   "outputs": [
    {
     "output_type": "display_data",
     "data": {
      "text/html": [
       "<style scoped>\n",
       "  .table-result-container {\n",
       "    max-height: 300px;\n",
       "    overflow: auto;\n",
       "  }\n",
       "  table, th, td {\n",
       "    border: 1px solid black;\n",
       "    border-collapse: collapse;\n",
       "  }\n",
       "  th, td {\n",
       "    padding: 5px;\n",
       "  }\n",
       "  th {\n",
       "    text-align: left;\n",
       "  }\n",
       "</style><div class='table-result-container'><table class='table-result'><thead style='background-color: white'><tr></tr></thead><tbody></tbody></table></div>"
      ]
     },
     "metadata": {
      "application/vnd.databricks.v1+output": {
       "addedWidgets": {},
       "aggData": [],
       "aggError": "",
       "aggOverflow": false,
       "aggSchema": [],
       "aggSeriesLimitReached": false,
       "aggType": "",
       "arguments": {},
       "columnCustomDisplayInfos": {},
       "data": [],
       "datasetInfos": [],
       "dbfsResultPath": null,
       "isJsonSchema": true,
       "metadata": {
        "dataframeName": null
       },
       "overflow": false,
       "plotOptions": {
        "customPlotOptions": {},
        "displayType": "table",
        "pivotAggregation": null,
        "pivotColumns": null,
        "xColumns": null,
        "yColumns": null
       },
       "removedWidgets": [],
       "schema": [],
       "type": "table"
      }
     },
     "output_type": "display_data"
    }
   ],
   "source": [
    "%sql\n",
    "-- criando tabela rendimento anual pessoa\n",
    "CREATE OR REPLACE TABLE spark_catalog.bronze.tr_pessoa_rendimento(\n",
    "  id INT COMMENT 'Chave primaria',\n",
    "  id_pessoa int COMMENT 'Id pessoa',\n",
    "  rendimento_anual double comment 'rendimento anual',\n",
    "  ano_rendimento int COMMENT 'ano rendimento'\n",
    ")\n",
    "LOCATION 'dbfs:/FileStore/landing_zone/tr_pessoa_rendimento'\n",
    "TBLPROPERTIES ('comment' = 'Esta tabela contém dados de rendimento de pessoas')"
   ]
  },
  {
   "cell_type": "markdown",
   "metadata": {
    "application/vnd.databricks.v1+cell": {
     "cellMetadata": {},
     "inputWidgets": {},
     "nuid": "d33b0de7-8aca-41d3-80c4-0af30edf19a1",
     "showTitle": false,
     "title": ""
    }
   },
   "source": [
    "## Visualizando o Schema da Tabela"
   ]
  },
  {
   "cell_type": "code",
   "execution_count": 0,
   "metadata": {
    "application/vnd.databricks.v1+cell": {
     "cellMetadata": {
      "byteLimit": 2048000,
      "implicitDf": true,
      "rowLimit": 10000
     },
     "inputWidgets": {},
     "nuid": "d443ebfb-c2ab-4e4d-895a-12ed32a49c64",
     "showTitle": false,
     "title": ""
    }
   },
   "outputs": [
    {
     "output_type": "display_data",
     "data": {
      "text/html": [
       "<style scoped>\n",
       "  .table-result-container {\n",
       "    max-height: 300px;\n",
       "    overflow: auto;\n",
       "  }\n",
       "  table, th, td {\n",
       "    border: 1px solid black;\n",
       "    border-collapse: collapse;\n",
       "  }\n",
       "  th, td {\n",
       "    padding: 5px;\n",
       "  }\n",
       "  th {\n",
       "    text-align: left;\n",
       "  }\n",
       "</style><div class='table-result-container'><table class='table-result'><thead style='background-color: white'><tr><th>col_name</th><th>data_type</th><th>comment</th></tr></thead><tbody><tr><td>id</td><td>int</td><td>Chave Primária</td></tr><tr><td>primeiro_nome</td><td>varchar(255)</td><td>Primeiro nome da pessoa</td></tr><tr><td>ultimo_nome</td><td>varchar(255)</td><td>Ultimo nome da pessoa</td></tr><tr><td>data_nascimento</td><td>date</td><td>Data de nascimento</td></tr></tbody></table></div>"
      ]
     },
     "metadata": {
      "application/vnd.databricks.v1+output": {
       "addedWidgets": {},
       "aggData": [],
       "aggError": "",
       "aggOverflow": false,
       "aggSchema": [],
       "aggSeriesLimitReached": false,
       "aggType": "",
       "arguments": {},
       "columnCustomDisplayInfos": {},
       "data": [
        [
         "id",
         "int",
         "Chave Primária"
        ],
        [
         "primeiro_nome",
         "varchar(255)",
         "Primeiro nome da pessoa"
        ],
        [
         "ultimo_nome",
         "varchar(255)",
         "Ultimo nome da pessoa"
        ],
        [
         "data_nascimento",
         "date",
         "Data de nascimento"
        ]
       ],
       "datasetInfos": [],
       "dbfsResultPath": null,
       "isJsonSchema": true,
       "metadata": {
        "createTempViewForImplicitDf": true,
        "dataframeName": "_sqldf",
        "executionCount": 3
       },
       "overflow": false,
       "plotOptions": {
        "customPlotOptions": {},
        "displayType": "table",
        "pivotAggregation": null,
        "pivotColumns": null,
        "xColumns": null,
        "yColumns": null
       },
       "removedWidgets": [],
       "schema": [
        {
         "metadata": "{\"comment\":\"name of the column\"}",
         "name": "col_name",
         "type": "\"string\""
        },
        {
         "metadata": "{\"comment\":\"data type of the column\"}",
         "name": "data_type",
         "type": "\"string\""
        },
        {
         "metadata": "{\"comment\":\"comment of the column\"}",
         "name": "comment",
         "type": "\"string\""
        }
       ],
       "type": "table"
      }
     },
     "output_type": "display_data"
    }
   ],
   "source": [
    "%sql\n",
    "describe spark_catalog.bronze.tr_pessoa"
   ]
  },
  {
   "cell_type": "code",
   "execution_count": 0,
   "metadata": {
    "application/vnd.databricks.v1+cell": {
     "cellMetadata": {
      "byteLimit": 2048000,
      "implicitDf": true,
      "rowLimit": 10000
     },
     "inputWidgets": {},
     "nuid": "c461987a-bb3a-4b3c-a6e6-6c4527a7f520",
     "showTitle": false,
     "title": ""
    }
   },
   "outputs": [
    {
     "output_type": "display_data",
     "data": {
      "text/html": [
       "<style scoped>\n",
       "  .table-result-container {\n",
       "    max-height: 300px;\n",
       "    overflow: auto;\n",
       "  }\n",
       "  table, th, td {\n",
       "    border: 1px solid black;\n",
       "    border-collapse: collapse;\n",
       "  }\n",
       "  th, td {\n",
       "    padding: 5px;\n",
       "  }\n",
       "  th {\n",
       "    text-align: left;\n",
       "  }\n",
       "</style><div class='table-result-container'><table class='table-result'><thead style='background-color: white'><tr><th>col_name</th><th>data_type</th><th>comment</th></tr></thead><tbody><tr><td>id</td><td>int</td><td>Chave primaria</td></tr><tr><td>id_pessoa</td><td>int</td><td>Id pessoa</td></tr><tr><td>rendimento_anual</td><td>double</td><td>rendimento anual</td></tr><tr><td>ano_rendimento</td><td>int</td><td>ano rendimento</td></tr></tbody></table></div>"
      ]
     },
     "metadata": {
      "application/vnd.databricks.v1+output": {
       "addedWidgets": {},
       "aggData": [],
       "aggError": "",
       "aggOverflow": false,
       "aggSchema": [],
       "aggSeriesLimitReached": false,
       "aggType": "",
       "arguments": {},
       "columnCustomDisplayInfos": {},
       "data": [
        [
         "id",
         "int",
         "Chave primaria"
        ],
        [
         "id_pessoa",
         "int",
         "Id pessoa"
        ],
        [
         "rendimento_anual",
         "double",
         "rendimento anual"
        ],
        [
         "ano_rendimento",
         "int",
         "ano rendimento"
        ]
       ],
       "datasetInfos": [],
       "dbfsResultPath": null,
       "isJsonSchema": true,
       "metadata": {
        "createTempViewForImplicitDf": true,
        "dataframeName": "_sqldf",
        "executionCount": 4
       },
       "overflow": false,
       "plotOptions": {
        "customPlotOptions": {},
        "displayType": "table",
        "pivotAggregation": null,
        "pivotColumns": null,
        "xColumns": null,
        "yColumns": null
       },
       "removedWidgets": [],
       "schema": [
        {
         "metadata": "{\"comment\":\"name of the column\"}",
         "name": "col_name",
         "type": "\"string\""
        },
        {
         "metadata": "{\"comment\":\"data type of the column\"}",
         "name": "data_type",
         "type": "\"string\""
        },
        {
         "metadata": "{\"comment\":\"comment of the column\"}",
         "name": "comment",
         "type": "\"string\""
        }
       ],
       "type": "table"
      }
     },
     "output_type": "display_data"
    }
   ],
   "source": [
    "%sql\n",
    "describe spark_catalog.bronze.tr_pessoa_rendimento"
   ]
  },
  {
   "cell_type": "markdown",
   "metadata": {
    "application/vnd.databricks.v1+cell": {
     "cellMetadata": {},
     "inputWidgets": {},
     "nuid": "cb473382-97a4-4d7f-bdcb-d073fc95d259",
     "showTitle": false,
     "title": ""
    }
   },
   "source": [
    "## Realizando um insert na tabela"
   ]
  },
  {
   "cell_type": "code",
   "execution_count": 0,
   "metadata": {
    "application/vnd.databricks.v1+cell": {
     "cellMetadata": {
      "byteLimit": 2048000,
      "implicitDf": true,
      "rowLimit": 10000
     },
     "inputWidgets": {},
     "nuid": "6b033c96-85e4-4bb3-b06d-d1de19785fe7",
     "showTitle": false,
     "title": ""
    }
   },
   "outputs": [
    {
     "output_type": "display_data",
     "data": {
      "text/html": [
       "<style scoped>\n",
       "  .table-result-container {\n",
       "    max-height: 300px;\n",
       "    overflow: auto;\n",
       "  }\n",
       "  table, th, td {\n",
       "    border: 1px solid black;\n",
       "    border-collapse: collapse;\n",
       "  }\n",
       "  th, td {\n",
       "    padding: 5px;\n",
       "  }\n",
       "  th {\n",
       "    text-align: left;\n",
       "  }\n",
       "</style><div class='table-result-container'><table class='table-result'><thead style='background-color: white'><tr><th>num_affected_rows</th><th>num_inserted_rows</th></tr></thead><tbody><tr><td>5</td><td>5</td></tr></tbody></table></div>"
      ]
     },
     "metadata": {
      "application/vnd.databricks.v1+output": {
       "addedWidgets": {},
       "aggData": [],
       "aggError": "",
       "aggOverflow": false,
       "aggSchema": [],
       "aggSeriesLimitReached": false,
       "aggType": "",
       "arguments": {},
       "columnCustomDisplayInfos": {},
       "data": [
        [
         5,
         5
        ]
       ],
       "datasetInfos": [],
       "dbfsResultPath": null,
       "isJsonSchema": true,
       "metadata": {
        "createTempViewForImplicitDf": true,
        "dataframeName": "_sqldf",
        "executionCount": 5
       },
       "overflow": false,
       "plotOptions": {
        "customPlotOptions": {},
        "displayType": "table",
        "pivotAggregation": null,
        "pivotColumns": null,
        "xColumns": null,
        "yColumns": null
       },
       "removedWidgets": [],
       "schema": [
        {
         "metadata": "{}",
         "name": "num_affected_rows",
         "type": "\"long\""
        },
        {
         "metadata": "{}",
         "name": "num_inserted_rows",
         "type": "\"long\""
        }
       ],
       "type": "table"
      }
     },
     "output_type": "display_data"
    }
   ],
   "source": [
    "%sql\n",
    "-- Inserindo dados na tabela de pessoas\n",
    "insert into spark_catalog.bronze.tr_pessoa\n",
    "  (id, primeiro_nome, ultimo_nome, data_nascimento)\n",
    "values \n",
    "  (1, 'Anderson', 'Leal', '2003-01-15'),\n",
    "  (2, 'Felix', 'Souza', '1998-01-20'), \n",
    "  (3, 'Junior', 'Amorim','1994-02-11'),\n",
    "  (4, 'Barbara', 'Souza','2001-03-22'),\n",
    "  (5, 'Jordam', 'Avilar','2001-03-22')"
   ]
  },
  {
   "cell_type": "code",
   "execution_count": 0,
   "metadata": {
    "application/vnd.databricks.v1+cell": {
     "cellMetadata": {
      "byteLimit": 2048000,
      "implicitDf": true,
      "rowLimit": 10000
     },
     "inputWidgets": {},
     "nuid": "38af7ca5-2bf2-42a7-93c0-88fd1004c068",
     "showTitle": false,
     "title": ""
    }
   },
   "outputs": [
    {
     "output_type": "display_data",
     "data": {
      "text/html": [
       "<style scoped>\n",
       "  .table-result-container {\n",
       "    max-height: 300px;\n",
       "    overflow: auto;\n",
       "  }\n",
       "  table, th, td {\n",
       "    border: 1px solid black;\n",
       "    border-collapse: collapse;\n",
       "  }\n",
       "  th, td {\n",
       "    padding: 5px;\n",
       "  }\n",
       "  th {\n",
       "    text-align: left;\n",
       "  }\n",
       "</style><div class='table-result-container'><table class='table-result'><thead style='background-color: white'><tr><th>num_affected_rows</th><th>num_inserted_rows</th></tr></thead><tbody><tr><td>11</td><td>11</td></tr></tbody></table></div>"
      ]
     },
     "metadata": {
      "application/vnd.databricks.v1+output": {
       "addedWidgets": {},
       "aggData": [],
       "aggError": "",
       "aggOverflow": false,
       "aggSchema": [],
       "aggSeriesLimitReached": false,
       "aggType": "",
       "arguments": {},
       "columnCustomDisplayInfos": {},
       "data": [
        [
         11,
         11
        ]
       ],
       "datasetInfos": [],
       "dbfsResultPath": null,
       "isJsonSchema": true,
       "metadata": {
        "createTempViewForImplicitDf": true,
        "dataframeName": "_sqldf",
        "executionCount": 6
       },
       "overflow": false,
       "plotOptions": {
        "customPlotOptions": {},
        "displayType": "table",
        "pivotAggregation": null,
        "pivotColumns": null,
        "xColumns": null,
        "yColumns": null
       },
       "removedWidgets": [],
       "schema": [
        {
         "metadata": "{}",
         "name": "num_affected_rows",
         "type": "\"long\""
        },
        {
         "metadata": "{}",
         "name": "num_inserted_rows",
         "type": "\"long\""
        }
       ],
       "type": "table"
      }
     },
     "output_type": "display_data"
    }
   ],
   "source": [
    "%sql\n",
    "-- inserindo dados na tabela pessoas redimentos\n",
    "insert into spark_catalog.bronze.tr_pessoa_rendimento\n",
    "  (id, id_pessoa, rendimento_anual, ano_rendimento)\n",
    "values\n",
    "  (1, 1, 710235, 2022),\n",
    "  (2, 1, 140450, 2023), \n",
    "  (3, 1, 100000, 2024),\n",
    "  (4, 2, 214700, 2022),\n",
    "  (5, 2, 510235, 2023),\n",
    "  (6, 2, 340450, 2024), \n",
    "  (7, 3, 180000, 2022),\n",
    "  (8, 3, 204000, 2023),\n",
    "  (9, 3, 717235, 2024),\n",
    "  (10, 4, 140490, 2022),\n",
    "  (12, 4, 214000, 2024)"
   ]
  },
  {
   "cell_type": "markdown",
   "metadata": {
    "application/vnd.databricks.v1+cell": {
     "cellMetadata": {},
     "inputWidgets": {},
     "nuid": "1cadc82f-7c98-4ee7-af95-75d8f42010f7",
     "showTitle": false,
     "title": ""
    }
   },
   "source": [
    "## Lendo: Spark ou SQL"
   ]
  },
  {
   "cell_type": "code",
   "execution_count": 0,
   "metadata": {
    "application/vnd.databricks.v1+cell": {
     "cellMetadata": {
      "byteLimit": 2048000,
      "implicitDf": true,
      "rowLimit": 10000
     },
     "inputWidgets": {},
     "nuid": "10756f66-e244-4a4f-9817-c64fb8645851",
     "showTitle": false,
     "title": ""
    }
   },
   "outputs": [
    {
     "output_type": "display_data",
     "data": {
      "text/html": [
       "<style scoped>\n",
       "  .table-result-container {\n",
       "    max-height: 300px;\n",
       "    overflow: auto;\n",
       "  }\n",
       "  table, th, td {\n",
       "    border: 1px solid black;\n",
       "    border-collapse: collapse;\n",
       "  }\n",
       "  th, td {\n",
       "    padding: 5px;\n",
       "  }\n",
       "  th {\n",
       "    text-align: left;\n",
       "  }\n",
       "</style><div class='table-result-container'><table class='table-result'><thead style='background-color: white'><tr><th>id</th><th>primeiro_nome</th><th>ultimo_nome</th><th>data_nascimento</th></tr></thead><tbody><tr><td>1</td><td>Anderson</td><td>Leal</td><td>2003-01-15</td></tr><tr><td>2</td><td>Felix</td><td>Souza</td><td>1998-01-20</td></tr><tr><td>3</td><td>Junior</td><td>Amorim</td><td>1994-02-11</td></tr><tr><td>4</td><td>Barbara</td><td>Souza</td><td>2001-03-22</td></tr><tr><td>5</td><td>Jordam</td><td>Avilar</td><td>2001-03-22</td></tr></tbody></table></div>"
      ]
     },
     "metadata": {
      "application/vnd.databricks.v1+output": {
       "addedWidgets": {},
       "aggData": [],
       "aggError": "",
       "aggOverflow": false,
       "aggSchema": [],
       "aggSeriesLimitReached": false,
       "aggType": "",
       "arguments": {},
       "columnCustomDisplayInfos": {},
       "data": [
        [
         1,
         "Anderson",
         "Leal",
         "2003-01-15"
        ],
        [
         2,
         "Felix",
         "Souza",
         "1998-01-20"
        ],
        [
         3,
         "Junior",
         "Amorim",
         "1994-02-11"
        ],
        [
         4,
         "Barbara",
         "Souza",
         "2001-03-22"
        ],
        [
         5,
         "Jordam",
         "Avilar",
         "2001-03-22"
        ]
       ],
       "datasetInfos": [],
       "dbfsResultPath": null,
       "isJsonSchema": true,
       "metadata": {
        "createTempViewForImplicitDf": true,
        "dataframeName": "_sqldf",
        "executionCount": 7
       },
       "overflow": false,
       "plotOptions": {
        "customPlotOptions": {},
        "displayType": "table",
        "pivotAggregation": null,
        "pivotColumns": null,
        "xColumns": null,
        "yColumns": null
       },
       "removedWidgets": [],
       "schema": [
        {
         "metadata": "{\"comment\":\"Chave Primária\"}",
         "name": "id",
         "type": "\"integer\""
        },
        {
         "metadata": "{\"comment\":\"Primeiro nome da pessoa\",\"__CHAR_VARCHAR_TYPE_STRING\":\"varchar(255)\"}",
         "name": "primeiro_nome",
         "type": "\"string\""
        },
        {
         "metadata": "{\"comment\":\"Ultimo nome da pessoa\",\"__CHAR_VARCHAR_TYPE_STRING\":\"varchar(255)\"}",
         "name": "ultimo_nome",
         "type": "\"string\""
        },
        {
         "metadata": "{\"comment\":\"Data de nascimento\"}",
         "name": "data_nascimento",
         "type": "\"date\""
        }
       ],
       "type": "table"
      }
     },
     "output_type": "display_data"
    }
   ],
   "source": [
    "%sql\n",
    "-- ler passando a location\n",
    "SELECT *\n",
    "FROM delta.`dbfs:/FileStore/landing_zone/tr_pessoa/`"
   ]
  },
  {
   "cell_type": "code",
   "execution_count": 0,
   "metadata": {
    "application/vnd.databricks.v1+cell": {
     "cellMetadata": {
      "byteLimit": 2048000,
      "implicitDf": true,
      "rowLimit": 10000
     },
     "inputWidgets": {},
     "nuid": "07b4e9be-251c-46db-a6a8-a3e6bab1cb40",
     "showTitle": false,
     "title": ""
    }
   },
   "outputs": [
    {
     "output_type": "display_data",
     "data": {
      "text/html": [
       "<style scoped>\n",
       "  .table-result-container {\n",
       "    max-height: 300px;\n",
       "    overflow: auto;\n",
       "  }\n",
       "  table, th, td {\n",
       "    border: 1px solid black;\n",
       "    border-collapse: collapse;\n",
       "  }\n",
       "  th, td {\n",
       "    padding: 5px;\n",
       "  }\n",
       "  th {\n",
       "    text-align: left;\n",
       "  }\n",
       "</style><div class='table-result-container'><table class='table-result'><thead style='background-color: white'><tr><th>id</th><th>primeiro_nome</th><th>ultimo_nome</th><th>data_nascimento</th></tr></thead><tbody><tr><td>1</td><td>Anderson</td><td>Leal</td><td>2003-01-15</td></tr><tr><td>2</td><td>Felix</td><td>Souza</td><td>1998-01-20</td></tr><tr><td>3</td><td>Junior</td><td>Amorim</td><td>1994-02-11</td></tr><tr><td>4</td><td>Barbara</td><td>Souza</td><td>2001-03-22</td></tr><tr><td>5</td><td>Jordam</td><td>Avilar</td><td>2001-03-22</td></tr></tbody></table></div>"
      ]
     },
     "metadata": {
      "application/vnd.databricks.v1+output": {
       "addedWidgets": {},
       "aggData": [],
       "aggError": "",
       "aggOverflow": false,
       "aggSchema": [],
       "aggSeriesLimitReached": false,
       "aggType": "",
       "arguments": {},
       "columnCustomDisplayInfos": {},
       "data": [
        [
         1,
         "Anderson",
         "Leal",
         "2003-01-15"
        ],
        [
         2,
         "Felix",
         "Souza",
         "1998-01-20"
        ],
        [
         3,
         "Junior",
         "Amorim",
         "1994-02-11"
        ],
        [
         4,
         "Barbara",
         "Souza",
         "2001-03-22"
        ],
        [
         5,
         "Jordam",
         "Avilar",
         "2001-03-22"
        ]
       ],
       "datasetInfos": [],
       "dbfsResultPath": null,
       "isJsonSchema": true,
       "metadata": {
        "createTempViewForImplicitDf": true,
        "dataframeName": "_sqldf",
        "executionCount": 8
       },
       "overflow": false,
       "plotOptions": {
        "customPlotOptions": {},
        "displayType": "table",
        "pivotAggregation": null,
        "pivotColumns": null,
        "xColumns": null,
        "yColumns": null
       },
       "removedWidgets": [],
       "schema": [
        {
         "metadata": "{\"comment\":\"Chave Primária\"}",
         "name": "id",
         "type": "\"integer\""
        },
        {
         "metadata": "{\"comment\":\"Primeiro nome da pessoa\",\"__CHAR_VARCHAR_TYPE_STRING\":\"varchar(255)\"}",
         "name": "primeiro_nome",
         "type": "\"string\""
        },
        {
         "metadata": "{\"comment\":\"Ultimo nome da pessoa\",\"__CHAR_VARCHAR_TYPE_STRING\":\"varchar(255)\"}",
         "name": "ultimo_nome",
         "type": "\"string\""
        },
        {
         "metadata": "{\"comment\":\"Data de nascimento\"}",
         "name": "data_nascimento",
         "type": "\"date\""
        }
       ],
       "type": "table"
      }
     },
     "output_type": "display_data"
    }
   ],
   "source": [
    "%sql\n",
    "-- Lendo usando a tabela\n",
    "SELECT *\n",
    "FROM bronze.tr_pessoa"
   ]
  },
  {
   "cell_type": "code",
   "execution_count": 0,
   "metadata": {
    "application/vnd.databricks.v1+cell": {
     "cellMetadata": {
      "byteLimit": 2048000,
      "rowLimit": 10000
     },
     "inputWidgets": {},
     "nuid": "0a4b6f5c-8f66-49b0-bbef-4dc949531ede",
     "showTitle": false,
     "title": ""
    }
   },
   "outputs": [
    {
     "output_type": "display_data",
     "data": {
      "text/html": [
       "<style scoped>\n",
       "  .ansiout {\n",
       "    display: block;\n",
       "    unicode-bidi: embed;\n",
       "    white-space: pre-wrap;\n",
       "    word-wrap: break-word;\n",
       "    word-break: break-all;\n",
       "    font-family: \"Menlo\", \"Monaco\", \"Consolas\", \"Ubuntu Mono\", \"Source Code Pro\", monospace;\n",
       "    font-size: 13px;\n",
       "    color: #555;\n",
       "    margin-left: 4px;\n",
       "    line-height: 19px;\n",
       "  }\n",
       "</style>\n",
       "<div class=\"ansiout\">+---+-------------+-----------+---------------+\n",
       " id|primeiro_nome|ultimo_nome|data_nascimento|\n",
       "+---+-------------+-----------+---------------+\n",
       "  1|     Anderson|       Leal|     2003-01-15|\n",
       "  2|        Felix|      Souza|     1998-01-20|\n",
       "  3|       Junior|     Amorim|     1994-02-11|\n",
       "  4|      Barbara|      Souza|     2001-03-22|\n",
       "  5|       Jordam|     Avilar|     2001-03-22|\n",
       "+---+-------------+-----------+---------------+\n",
       "\n",
       "df: org.apache.spark.sql.DataFrame = [id: int, primeiro_nome: string ... 2 more fields]\n",
       "</div>"
      ]
     },
     "metadata": {
      "application/vnd.databricks.v1+output": {
       "addedWidgets": {},
       "arguments": {},
       "data": "<div class=\"ansiout\">+---+-------------+-----------+---------------+\n| id|primeiro_nome|ultimo_nome|data_nascimento|\n+---+-------------+-----------+---------------+\n|  1|     Anderson|       Leal|     2003-01-15|\n|  2|        Felix|      Souza|     1998-01-20|\n|  3|       Junior|     Amorim|     1994-02-11|\n|  4|      Barbara|      Souza|     2001-03-22|\n|  5|       Jordam|     Avilar|     2001-03-22|\n+---+-------------+-----------+---------------+\n\ndf: org.apache.spark.sql.DataFrame = [id: int, primeiro_nome: string ... 2 more fields]\n</div>",
       "datasetInfos": [
        {
         "name": "df",
         "schema": {
          "fields": [
           {
            "metadata": {
             "comment": "Chave Primária"
            },
            "name": "id",
            "nullable": true,
            "type": "integer"
           },
           {
            "metadata": {
             "__CHAR_VARCHAR_TYPE_STRING": "varchar(255)",
             "comment": "Primeiro nome da pessoa"
            },
            "name": "primeiro_nome",
            "nullable": true,
            "type": "string"
           },
           {
            "metadata": {
             "__CHAR_VARCHAR_TYPE_STRING": "varchar(255)",
             "comment": "Ultimo nome da pessoa"
            },
            "name": "ultimo_nome",
            "nullable": true,
            "type": "string"
           },
           {
            "metadata": {
             "comment": "Data de nascimento"
            },
            "name": "data_nascimento",
            "nullable": true,
            "type": "date"
           }
          ],
          "type": "struct"
         },
         "tableIdentifier": "dbfs:/FileStore/landing_zone/tr_pessoa",
         "typeStr": "org.apache.spark.sql.DataFrame"
        }
       ],
       "metadata": {
        "isDbfsCommandResult": false
       },
       "removedWidgets": [],
       "type": "html"
      }
     },
     "output_type": "display_data"
    }
   ],
   "source": [
    "%scala\n",
    "val df = spark.read.format(\"delta\").load(\"dbfs:/FileStore/landing_zone/tr_pessoa\")\n",
    "df.show()"
   ]
  },
  {
   "cell_type": "code",
   "execution_count": 0,
   "metadata": {
    "application/vnd.databricks.v1+cell": {
     "cellMetadata": {
      "byteLimit": 2048000,
      "rowLimit": 10000
     },
     "inputWidgets": {},
     "nuid": "be5ad537-9bcb-4a9b-bd38-64503338bd01",
     "showTitle": false,
     "title": ""
    }
   },
   "outputs": [
    {
     "output_type": "display_data",
     "data": {
      "text/html": [
       "<style scoped>\n",
       "  .table-result-container {\n",
       "    max-height: 300px;\n",
       "    overflow: auto;\n",
       "  }\n",
       "  table, th, td {\n",
       "    border: 1px solid black;\n",
       "    border-collapse: collapse;\n",
       "  }\n",
       "  th, td {\n",
       "    padding: 5px;\n",
       "  }\n",
       "  th {\n",
       "    text-align: left;\n",
       "  }\n",
       "</style><div class='table-result-container'><table class='table-result'><thead style='background-color: white'><tr><th>id</th><th>id_pessoa</th><th>rendimento_anual</th><th>ano_rendimento</th></tr></thead><tbody><tr><td>1</td><td>1</td><td>710235.0</td><td>2022</td></tr><tr><td>2</td><td>1</td><td>140450.0</td><td>2023</td></tr><tr><td>3</td><td>1</td><td>100000.0</td><td>2024</td></tr><tr><td>4</td><td>2</td><td>214700.0</td><td>2022</td></tr><tr><td>5</td><td>2</td><td>510235.0</td><td>2023</td></tr><tr><td>6</td><td>2</td><td>340450.0</td><td>2024</td></tr><tr><td>7</td><td>3</td><td>180000.0</td><td>2022</td></tr><tr><td>8</td><td>3</td><td>204000.0</td><td>2023</td></tr><tr><td>9</td><td>3</td><td>717235.0</td><td>2024</td></tr><tr><td>10</td><td>4</td><td>140490.0</td><td>2022</td></tr><tr><td>12</td><td>4</td><td>214000.0</td><td>2024</td></tr></tbody></table></div>"
      ]
     },
     "metadata": {
      "application/vnd.databricks.v1+output": {
       "addedWidgets": {},
       "aggData": [],
       "aggError": "",
       "aggOverflow": false,
       "aggSchema": [],
       "aggSeriesLimitReached": false,
       "aggType": "",
       "arguments": {},
       "columnCustomDisplayInfos": {},
       "data": [
        [
         1,
         1,
         710235.0,
         2022
        ],
        [
         2,
         1,
         140450.0,
         2023
        ],
        [
         3,
         1,
         100000.0,
         2024
        ],
        [
         4,
         2,
         214700.0,
         2022
        ],
        [
         5,
         2,
         510235.0,
         2023
        ],
        [
         6,
         2,
         340450.0,
         2024
        ],
        [
         7,
         3,
         180000.0,
         2022
        ],
        [
         8,
         3,
         204000.0,
         2023
        ],
        [
         9,
         3,
         717235.0,
         2024
        ],
        [
         10,
         4,
         140490.0,
         2022
        ],
        [
         12,
         4,
         214000.0,
         2024
        ]
       ],
       "datasetInfos": [],
       "dbfsResultPath": null,
       "isJsonSchema": true,
       "metadata": {},
       "overflow": false,
       "plotOptions": {
        "customPlotOptions": {},
        "displayType": "table",
        "pivotAggregation": null,
        "pivotColumns": null,
        "xColumns": null,
        "yColumns": null
       },
       "removedWidgets": [],
       "schema": [
        {
         "metadata": "{\"comment\":\"Chave primaria\"}",
         "name": "id",
         "type": "\"integer\""
        },
        {
         "metadata": "{\"comment\":\"Id pessoa\"}",
         "name": "id_pessoa",
         "type": "\"integer\""
        },
        {
         "metadata": "{\"comment\":\"rendimento anual\"}",
         "name": "rendimento_anual",
         "type": "\"double\""
        },
        {
         "metadata": "{\"comment\":\"ano rendimento\"}",
         "name": "ano_rendimento",
         "type": "\"integer\""
        }
       ],
       "type": "table"
      }
     },
     "output_type": "display_data"
    }
   ],
   "source": [
    "%python\n",
    "spark.table('spark_catalog.bronze.tr_pessoa_rendimento').display()"
   ]
  },
  {
   "cell_type": "code",
   "execution_count": 0,
   "metadata": {
    "application/vnd.databricks.v1+cell": {
     "cellMetadata": {
      "byteLimit": 2048000,
      "rowLimit": 10000
     },
     "inputWidgets": {},
     "nuid": "bd3a507a-e4a6-4165-894c-4edd17f72699",
     "showTitle": false,
     "title": ""
    }
   },
   "outputs": [
    {
     "output_type": "display_data",
     "data": {
      "text/html": [
       "<style scoped>\n",
       "  .table-result-container {\n",
       "    max-height: 300px;\n",
       "    overflow: auto;\n",
       "  }\n",
       "  table, th, td {\n",
       "    border: 1px solid black;\n",
       "    border-collapse: collapse;\n",
       "  }\n",
       "  th, td {\n",
       "    padding: 5px;\n",
       "  }\n",
       "  th {\n",
       "    text-align: left;\n",
       "  }\n",
       "</style><div class='table-result-container'><table class='table-result'><thead style='background-color: white'><tr><th>id</th><th>id_pessoa</th><th>rendimento_anual</th><th>ano_rendimento</th></tr></thead><tbody><tr><td>1</td><td>1</td><td>710235.0</td><td>2022</td></tr><tr><td>2</td><td>1</td><td>140450.0</td><td>2023</td></tr><tr><td>3</td><td>1</td><td>100000.0</td><td>2024</td></tr><tr><td>4</td><td>2</td><td>214700.0</td><td>2022</td></tr><tr><td>5</td><td>2</td><td>510235.0</td><td>2023</td></tr><tr><td>6</td><td>2</td><td>340450.0</td><td>2024</td></tr><tr><td>7</td><td>3</td><td>180000.0</td><td>2022</td></tr><tr><td>8</td><td>3</td><td>204000.0</td><td>2023</td></tr><tr><td>9</td><td>3</td><td>717235.0</td><td>2024</td></tr><tr><td>10</td><td>4</td><td>140490.0</td><td>2022</td></tr><tr><td>12</td><td>4</td><td>214000.0</td><td>2024</td></tr></tbody></table></div>"
      ]
     },
     "metadata": {
      "application/vnd.databricks.v1+output": {
       "addedWidgets": {},
       "aggData": [],
       "aggError": "",
       "aggOverflow": false,
       "aggSchema": [],
       "aggSeriesLimitReached": false,
       "aggType": "",
       "arguments": {},
       "columnCustomDisplayInfos": {},
       "data": [
        [
         1,
         1,
         710235.0,
         2022
        ],
        [
         2,
         1,
         140450.0,
         2023
        ],
        [
         3,
         1,
         100000.0,
         2024
        ],
        [
         4,
         2,
         214700.0,
         2022
        ],
        [
         5,
         2,
         510235.0,
         2023
        ],
        [
         6,
         2,
         340450.0,
         2024
        ],
        [
         7,
         3,
         180000.0,
         2022
        ],
        [
         8,
         3,
         204000.0,
         2023
        ],
        [
         9,
         3,
         717235.0,
         2024
        ],
        [
         10,
         4,
         140490.0,
         2022
        ],
        [
         12,
         4,
         214000.0,
         2024
        ]
       ],
       "datasetInfos": [],
       "dbfsResultPath": null,
       "isJsonSchema": true,
       "metadata": {},
       "overflow": false,
       "plotOptions": {
        "customPlotOptions": {},
        "displayType": "table",
        "pivotAggregation": null,
        "pivotColumns": null,
        "xColumns": null,
        "yColumns": null
       },
       "removedWidgets": [],
       "schema": [
        {
         "metadata": "{\"comment\":\"Chave primaria\"}",
         "name": "id",
         "type": "\"integer\""
        },
        {
         "metadata": "{\"comment\":\"Id pessoa\"}",
         "name": "id_pessoa",
         "type": "\"integer\""
        },
        {
         "metadata": "{\"comment\":\"rendimento anual\"}",
         "name": "rendimento_anual",
         "type": "\"double\""
        },
        {
         "metadata": "{\"comment\":\"ano rendimento\"}",
         "name": "ano_rendimento",
         "type": "\"integer\""
        }
       ],
       "type": "table"
      }
     },
     "output_type": "display_data"
    }
   ],
   "source": [
    "%python\n",
    "df = spark.sql('select * from spark_catalog.bronze.tr_pessoa_rendimento')\n",
    "df.display()"
   ]
  },
  {
   "cell_type": "code",
   "execution_count": 0,
   "metadata": {
    "application/vnd.databricks.v1+cell": {
     "cellMetadata": {},
     "inputWidgets": {},
     "nuid": "3a8f7ed2-981f-4ba0-b4d9-6df72c994fcb",
     "showTitle": false,
     "title": ""
    }
   },
   "outputs": [],
   "source": []
  }
 ],
 "metadata": {
  "application/vnd.databricks.v1+notebook": {
   "dashboards": [],
   "environmentMetadata": null,
   "language": "python",
   "notebookMetadata": {
    "mostRecentlyExecutedCommandWithImplicitDF": {
     "commandId": 2780001737657490,
     "dataframes": [
      "_sqldf"
     ]
    },
    "pythonIndentUnit": 4
   },
   "notebookName": "primeiros-passos-spark-sql",
   "widgets": {}
  }
 },
 "nbformat": 4,
 "nbformat_minor": 0
}
